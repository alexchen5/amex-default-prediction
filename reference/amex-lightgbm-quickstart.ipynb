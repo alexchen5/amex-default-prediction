{
 "cells": [
  {
   "cell_type": "markdown",
   "id": "b9531e5d",
   "metadata": {
    "_cell_guid": "b1076dfc-b9ad-4769-8c92-a6c4dae69d19",
    "_uuid": "8f2839f25d086af736a60e9eeb907d3b93b6e0e5",
    "papermill": {
     "duration": 0.005737,
     "end_time": "2022-06-19T17:18:09.576686",
     "exception": false,
     "start_time": "2022-06-19T17:18:09.570949",
     "status": "completed"
    },
    "tags": []
   },
   "source": [
    "# LightGBM Quickstart for the *American Express - Default Prediction* competition\n",
    "\n",
    "This notebook shows how to apply LightGBM to the competition data, and it introduces a space-efficient way of feature engineering.\n",
    "\n",
    "It is based on the [EDA which makes sense ⭐️⭐️⭐️⭐️⭐️](https://www.kaggle.com/code/ambrosm/amex-eda-which-makes-sense)."
   ]
  },
  {
   "cell_type": "code",
   "execution_count": 1,
   "id": "228873ed",
   "metadata": {
    "_kg_hide-input": true,
    "execution": {
     "iopub.execute_input": "2022-06-19T17:18:09.590931Z",
     "iopub.status.busy": "2022-06-19T17:18:09.589943Z",
     "iopub.status.idle": "2022-06-19T17:18:11.700947Z",
     "shell.execute_reply": "2022-06-19T17:18:11.699653Z"
    },
    "papermill": {
     "duration": 2.120406,
     "end_time": "2022-06-19T17:18:11.703947",
     "exception": false,
     "start_time": "2022-06-19T17:18:09.583541",
     "status": "completed"
    },
    "tags": []
   },
   "outputs": [
    {
     "data": {
      "text/html": [
       "<style type='text/css'>\n",
       ".datatable table.frame { margin-bottom: 0; }\n",
       ".datatable table.frame thead { border-bottom: none; }\n",
       ".datatable table.frame tr.coltypes td {  color: #FFFFFF;  line-height: 6px;  padding: 0 0.5em;}\n",
       ".datatable .bool    { background: #DDDD99; }\n",
       ".datatable .object  { background: #565656; }\n",
       ".datatable .int     { background: #5D9E5D; }\n",
       ".datatable .float   { background: #4040CC; }\n",
       ".datatable .str     { background: #CC4040; }\n",
       ".datatable .time    { background: #40CC40; }\n",
       ".datatable .row_index {  background: var(--jp-border-color3);  border-right: 1px solid var(--jp-border-color0);  color: var(--jp-ui-font-color3);  font-size: 9px;}\n",
       ".datatable .frame tbody td { text-align: left; }\n",
       ".datatable .frame tr.coltypes .row_index {  background: var(--jp-border-color0);}\n",
       ".datatable th:nth-child(2) { padding-left: 12px; }\n",
       ".datatable .hellipsis {  color: var(--jp-cell-editor-border-color);}\n",
       ".datatable .vellipsis {  background: var(--jp-layout-color0);  color: var(--jp-cell-editor-border-color);}\n",
       ".datatable .na {  color: var(--jp-cell-editor-border-color);  font-size: 80%;}\n",
       ".datatable .sp {  opacity: 0.25;}\n",
       ".datatable .footer { font-size: 9px; }\n",
       ".datatable .frame_dimensions {  background: var(--jp-border-color3);  border-top: 1px solid var(--jp-border-color0);  color: var(--jp-ui-font-color3);  display: inline-block;  opacity: 0.6;  padding: 1px 10px 1px 5px;}\n",
       "</style>\n"
      ],
      "text/plain": [
       "<IPython.core.display.HTML object>"
      ]
     },
     "metadata": {},
     "output_type": "display_data"
    }
   ],
   "source": [
    "import numpy as np\n",
    "import pandas as pd\n",
    "import matplotlib.pyplot as plt\n",
    "from matplotlib.ticker import MaxNLocator\n",
    "from matplotlib.colors import ListedColormap\n",
    "from cycler import cycler\n",
    "from IPython.display import display\n",
    "import datetime\n",
    "import scipy.stats\n",
    "import warnings\n",
    "from colorama import Fore, Back, Style\n",
    "import gc\n",
    "\n",
    "from sklearn.model_selection import StratifiedKFold\n",
    "from sklearn.calibration import CalibrationDisplay\n",
    "from lightgbm import LGBMClassifier, log_evaluation\n",
    "\n",
    "plt.rcParams['axes.facecolor'] = '#0057b8' # blue\n",
    "plt.rcParams['axes.prop_cycle'] = cycler(color=['#ffd700'] +\n",
    "                                         plt.rcParams['axes.prop_cycle'].by_key()['color'][1:])\n",
    "plt.rcParams['text.color'] = 'w'\n",
    "\n",
    "INFERENCE = True # set to False if you only want to cross-validate\n"
   ]
  },
  {
   "cell_type": "code",
   "execution_count": 2,
   "id": "a0a6ed4a",
   "metadata": {
    "_kg_hide-input": true,
    "execution": {
     "iopub.execute_input": "2022-06-19T17:18:11.716416Z",
     "iopub.status.busy": "2022-06-19T17:18:11.715970Z",
     "iopub.status.idle": "2022-06-19T17:18:11.727161Z",
     "shell.execute_reply": "2022-06-19T17:18:11.726473Z"
    },
    "papermill": {
     "duration": 0.019778,
     "end_time": "2022-06-19T17:18:11.729193",
     "exception": false,
     "start_time": "2022-06-19T17:18:11.709415",
     "status": "completed"
    },
    "tags": []
   },
   "outputs": [],
   "source": [
    "# @yunchonggan's fast metric implementation\n",
    "# From https://www.kaggle.com/competitions/amex-default-prediction/discussion/328020\n",
    "def amex_metric(y_true: np.array, y_pred: np.array) -> float:\n",
    "\n",
    "    # count of positives and negatives\n",
    "    n_pos = y_true.sum()\n",
    "    n_neg = y_true.shape[0] - n_pos\n",
    "\n",
    "    # sorting by descring prediction values\n",
    "    indices = np.argsort(y_pred)[::-1]\n",
    "    preds, target = y_pred[indices], y_true[indices]\n",
    "\n",
    "    # filter the top 4% by cumulative row weights\n",
    "    weight = 20.0 - target * 19.0\n",
    "    cum_norm_weight = (weight / weight.sum()).cumsum()\n",
    "    four_pct_filter = cum_norm_weight <= 0.04\n",
    "\n",
    "    # default rate captured at 4%\n",
    "    d = target[four_pct_filter].sum() / n_pos\n",
    "\n",
    "    # weighted gini coefficient\n",
    "    lorentz = (target / n_pos).cumsum()\n",
    "    gini = ((lorentz - cum_norm_weight) * weight).sum()\n",
    "\n",
    "    # max weighted gini coefficient\n",
    "    gini_max = 10 * n_neg * (1 - 19 / (n_pos + 20 * n_neg))\n",
    "\n",
    "    # normalized weighted gini coefficient\n",
    "    g = gini / gini_max\n",
    "\n",
    "    return 0.5 * (g + d)\n",
    "\n",
    "def lgb_amex_metric(y_true, y_pred):\n",
    "    \"\"\"The competition metric with lightgbm's calling convention\"\"\"\n",
    "    return ('amex',\n",
    "            amex_metric(y_true, y_pred),\n",
    "            True)"
   ]
  },
  {
   "cell_type": "markdown",
   "id": "b1094b9b",
   "metadata": {
    "papermill": {
     "duration": 0.00474,
     "end_time": "2022-06-19T17:18:11.739540",
     "exception": false,
     "start_time": "2022-06-19T17:18:11.734800",
     "status": "completed"
    },
    "tags": []
   },
   "source": [
    "# Reading and preprocessing the data\n",
    "\n",
    "We read the data from @raddar's [dataset](https://www.kaggle.com/datasets/raddar/amex-data-integer-dtypes-parquet-format). @raddar has [denoised the data](https://www.kaggle.com/competitions/amex-default-prediction/discussion/328514) so that we can achieve better results with his dataset than with the original competition csv files.\n",
    "\n",
    "Then we create three groups of features:\n",
    "- Selected features averaged over all statements of a customer\n",
    "- The minimum or maximum of selected features over all statements of a customer\n",
    "- Selected features taken from the last statement of a customer\n",
    "\n",
    "The code has been optimized for memory efficiency rather than readability. In particular, `.iloc[mask_array, columns]` needs much less RAM than the groupby construction used in a previous version of the notebook.\n",
    "\n",
    "Preprocessing for LightGBM is much simpler than for neural networks:\n",
    "1. Neural networks can't process missing values; LightGBM handles them automatically.\n",
    "1. Categorical features need to be one-hot encoded for neural networks; LightGBM handles them automatically.\n",
    "1. With neural networks, you need to think about outliers; tree-based algorithms deal with outliers easily.\n",
    "1. Neural networks need scaled inputs; tree-based algorithms don't depend on scaling."
   ]
  },
  {
   "cell_type": "code",
   "execution_count": 3,
   "id": "0b826e28",
   "metadata": {
    "execution": {
     "iopub.execute_input": "2022-06-19T17:18:11.751406Z",
     "iopub.status.busy": "2022-06-19T17:18:11.750973Z",
     "iopub.status.idle": "2022-06-19T17:26:44.354045Z",
     "shell.execute_reply": "2022-06-19T17:26:44.353051Z"
    },
    "papermill": {
     "duration": 512.612147,
     "end_time": "2022-06-19T17:26:44.356584",
     "exception": false,
     "start_time": "2022-06-19T17:18:11.744437",
     "status": "completed"
    },
    "tags": []
   },
   "outputs": [
    {
     "name": "stdout",
     "output_type": "stream",
     "text": [
      "Read test\n",
      "Computed avg test\n",
      "Computed min test\n",
      "Computed max test\n",
      "Computed last test\n",
      "test shape: (924621, 469)\n",
      "Read train\n",
      "Computed avg train\n",
      "Computed min train\n",
      "Computed max train\n",
      "Computed last train\n",
      "train shape: (458913, 469)\n",
      "target shape: (458913,)\n",
      "CPU times: user 7min 20s, sys: 1min 15s, total: 8min 36s\n",
      "Wall time: 8min 32s\n"
     ]
    }
   ],
   "source": [
    "%%time\n",
    "features_avg = ['B_1', 'B_2', 'B_3', 'B_4', 'B_5', 'B_6', 'B_8', 'B_9', 'B_10', 'B_11', 'B_12', 'B_13', 'B_14', 'B_15', 'B_16', 'B_17', 'B_18', 'B_19', 'B_20', 'B_21', 'B_22', 'B_23', 'B_24', 'B_25', 'B_28', 'B_29', 'B_30', 'B_32', 'B_33', 'B_37', 'B_38', 'B_39', 'B_40', 'B_41', 'B_42', 'D_39', 'D_41', 'D_42', 'D_43', 'D_44', 'D_45', 'D_46', 'D_47', 'D_48', 'D_50', 'D_51', 'D_53', 'D_54', 'D_55', 'D_58', 'D_59', 'D_60', 'D_61', 'D_62', 'D_65', 'D_66', 'D_69', 'D_70', 'D_71', 'D_72', 'D_73', 'D_74', 'D_75', 'D_76', 'D_77', 'D_78', 'D_80', 'D_82', 'D_84', 'D_86', 'D_91', 'D_92', 'D_94', 'D_96', 'D_103', 'D_104', 'D_108', 'D_112', 'D_113', 'D_114', 'D_115', 'D_117', 'D_118', 'D_119', 'D_120', 'D_121', 'D_122', 'D_123', 'D_124', 'D_125', 'D_126', 'D_128', 'D_129', 'D_131', 'D_132', 'D_133', 'D_134', 'D_135', 'D_136', 'D_140', 'D_141', 'D_142', 'D_144', 'D_145', 'P_2', 'P_3', 'P_4', 'R_1', 'R_2', 'R_3', 'R_7', 'R_8', 'R_9', 'R_10', 'R_11', 'R_14', 'R_15', 'R_16', 'R_17', 'R_20', 'R_21', 'R_22', 'R_24', 'R_26', 'R_27', 'S_3', 'S_5', 'S_6', 'S_7', 'S_9', 'S_11', 'S_12', 'S_13', 'S_15', 'S_16', 'S_18', 'S_22', 'S_23', 'S_25', 'S_26']\n",
    "features_min = ['B_2', 'B_4', 'B_5', 'B_9', 'B_13', 'B_14', 'B_15', 'B_16', 'B_17', 'B_19', 'B_20', 'B_28', 'B_29', 'B_33', 'B_36', 'B_42', 'D_39', 'D_41', 'D_42', 'D_45', 'D_46', 'D_48', 'D_50', 'D_51', 'D_53', 'D_55', 'D_56', 'D_58', 'D_59', 'D_60', 'D_62', 'D_70', 'D_71', 'D_74', 'D_75', 'D_78', 'D_83', 'D_102', 'D_112', 'D_113', 'D_115', 'D_118', 'D_119', 'D_121', 'D_122', 'D_128', 'D_132', 'D_140', 'D_141', 'D_144', 'D_145', 'P_2', 'P_3', 'R_1', 'R_27', 'S_3', 'S_5', 'S_7', 'S_9', 'S_11', 'S_12', 'S_23', 'S_25']\n",
    "features_max = ['B_1', 'B_2', 'B_3', 'B_4', 'B_5', 'B_6', 'B_7', 'B_8', 'B_9', 'B_10', 'B_12', 'B_13', 'B_14', 'B_15', 'B_16', 'B_17', 'B_18', 'B_19', 'B_21', 'B_23', 'B_24', 'B_25', 'B_29', 'B_30', 'B_33', 'B_37', 'B_38', 'B_39', 'B_40', 'B_42', 'D_39', 'D_41', 'D_42', 'D_43', 'D_44', 'D_45', 'D_46', 'D_47', 'D_48', 'D_49', 'D_50', 'D_52', 'D_55', 'D_56', 'D_58', 'D_59', 'D_60', 'D_61', 'D_63', 'D_64', 'D_65', 'D_70', 'D_71', 'D_72', 'D_73', 'D_74', 'D_76', 'D_77', 'D_78', 'D_80', 'D_82', 'D_84', 'D_91', 'D_102', 'D_105', 'D_107', 'D_110', 'D_111', 'D_112', 'D_115', 'D_116', 'D_117', 'D_118', 'D_119', 'D_121', 'D_122', 'D_123', 'D_124', 'D_125', 'D_126', 'D_128', 'D_131', 'D_132', 'D_133', 'D_134', 'D_135', 'D_136', 'D_138', 'D_140', 'D_141', 'D_142', 'D_144', 'D_145', 'P_2', 'P_3', 'P_4', 'R_1', 'R_3', 'R_5', 'R_6', 'R_7', 'R_8', 'R_10', 'R_11', 'R_14', 'R_17', 'R_20', 'R_26', 'R_27', 'S_3', 'S_5', 'S_7', 'S_8', 'S_11', 'S_12', 'S_13', 'S_15', 'S_16', 'S_22', 'S_23', 'S_24', 'S_25', 'S_26', 'S_27']\n",
    "features_last = ['B_1', 'B_2', 'B_3', 'B_4', 'B_5', 'B_6', 'B_7', 'B_8', 'B_9', 'B_10', 'B_11', 'B_12', 'B_13', 'B_14', 'B_15', 'B_16', 'B_17', 'B_18', 'B_19', 'B_20', 'B_21', 'B_22', 'B_23', 'B_24', 'B_25', 'B_26', 'B_28', 'B_29', 'B_30', 'B_32', 'B_33', 'B_36', 'B_37', 'B_38', 'B_39', 'B_40', 'B_41', 'B_42', 'D_39', 'D_41', 'D_42', 'D_43', 'D_44', 'D_45', 'D_46', 'D_47', 'D_48', 'D_49', 'D_50', 'D_51', 'D_52', 'D_53', 'D_54', 'D_55', 'D_56', 'D_58', 'D_59', 'D_60', 'D_61', 'D_62', 'D_63', 'D_64', 'D_65', 'D_69', 'D_70', 'D_71', 'D_72', 'D_73', 'D_75', 'D_76', 'D_77', 'D_78', 'D_79', 'D_80', 'D_81', 'D_82', 'D_83', 'D_86', 'D_91', 'D_96', 'D_105', 'D_106', 'D_112', 'D_114', 'D_119', 'D_120', 'D_121', 'D_122', 'D_124', 'D_125', 'D_126', 'D_127', 'D_130', 'D_131', 'D_132', 'D_133', 'D_134', 'D_138', 'D_140', 'D_141', 'D_142', 'D_145', 'P_2', 'P_3', 'P_4', 'R_1', 'R_2', 'R_3', 'R_4', 'R_5', 'R_6', 'R_7', 'R_8', 'R_9', 'R_10', 'R_11', 'R_12', 'R_13', 'R_14', 'R_15', 'R_19', 'R_20', 'R_26', 'R_27', 'S_3', 'S_5', 'S_6', 'S_7', 'S_8', 'S_9', 'S_11', 'S_12', 'S_13', 'S_16', 'S_19', 'S_20', 'S_22', 'S_23', 'S_24', 'S_25', 'S_26', 'S_27']\n",
    "for i in ['test', 'train'] if INFERENCE else ['train']:\n",
    "    df = pd.read_parquet(f'../input/amex-data-integer-dtypes-parquet-format/{i}.parquet')\n",
    "    cid = pd.Categorical(df.pop('customer_ID'), ordered=True)\n",
    "    last = (cid != np.roll(cid, -1)) # mask for last statement of every customer\n",
    "    if 'target' in df.columns:\n",
    "        df.drop(columns=['target'], inplace=True)\n",
    "    gc.collect()\n",
    "    print('Read', i)\n",
    "    df_avg = (df\n",
    "              .groupby(cid)\n",
    "              .mean()[features_avg]\n",
    "              .rename(columns={f: f\"{f}_avg\" for f in features_avg})\n",
    "             )\n",
    "    gc.collect()\n",
    "    print('Computed avg', i)\n",
    "    df_min = (df\n",
    "              .groupby(cid)\n",
    "              .min()[features_min]\n",
    "              .rename(columns={f: f\"{f}_min\" for f in features_min})\n",
    "             )\n",
    "    gc.collect()\n",
    "    print('Computed min', i)\n",
    "    df_max = (df\n",
    "              .groupby(cid)\n",
    "              .max()[features_max]\n",
    "              .rename(columns={f: f\"{f}_max\" for f in features_max})\n",
    "             )\n",
    "    gc.collect()\n",
    "    print('Computed max', i)\n",
    "    df = (df.loc[last, features_last]\n",
    "          .rename(columns={f: f\"{f}_last\" for f in features_last})\n",
    "          .set_index(np.asarray(cid[last]))\n",
    "         )\n",
    "    gc.collect()\n",
    "    print('Computed last', i)\n",
    "    df = pd.concat([df, df_min, df_max, df_avg], axis=1)\n",
    "    if i == 'train': train = df\n",
    "    else: test = df\n",
    "    print(f\"{i} shape: {df.shape}\")\n",
    "    del df, df_avg, df_min, df_max, cid, last\n",
    "\n",
    "target = pd.read_csv('../input/amex-default-prediction/train_labels.csv').target.values\n",
    "print(f\"target shape: {target.shape}\")"
   ]
  },
  {
   "cell_type": "markdown",
   "id": "a01ea2e5",
   "metadata": {
    "papermill": {
     "duration": 0.005407,
     "end_time": "2022-06-19T17:26:44.367938",
     "exception": false,
     "start_time": "2022-06-19T17:26:44.362531",
     "status": "completed"
    },
    "tags": []
   },
   "source": [
    "# Cross-validation\n",
    "\n",
    "We cross-validate with a five-fold StratifiedKFold because the classes are imbalanced.\n",
    "\n",
    "Notice that lightgbm logs the validation score with the competition's scoring function every hundred iterations."
   ]
  },
  {
   "cell_type": "code",
   "execution_count": 4,
   "id": "a3aba8c1",
   "metadata": {
    "execution": {
     "iopub.execute_input": "2022-06-19T17:26:44.381633Z",
     "iopub.status.busy": "2022-06-19T17:26:44.381188Z",
     "iopub.status.idle": "2022-06-19T17:59:07.593196Z",
     "shell.execute_reply": "2022-06-19T17:59:07.590968Z"
    },
    "papermill": {
     "duration": 1943.230965,
     "end_time": "2022-06-19T17:59:07.604475",
     "exception": false,
     "start_time": "2022-06-19T17:26:44.373510",
     "status": "completed"
    },
    "tags": []
   },
   "outputs": [
    {
     "name": "stdout",
     "output_type": "stream",
     "text": [
      "469 features\n",
      "[100]\tvalid_0's binary_logloss: 0.247296\tvalid_0's amex: 0.764518\n",
      "[200]\tvalid_0's binary_logloss: 0.22843\tvalid_0's amex: 0.779298\n",
      "[300]\tvalid_0's binary_logloss: 0.223237\tvalid_0's amex: 0.786733\n",
      "[400]\tvalid_0's binary_logloss: 0.220893\tvalid_0's amex: 0.790104\n",
      "[500]\tvalid_0's binary_logloss: 0.219559\tvalid_0's amex: 0.791775\n",
      "[600]\tvalid_0's binary_logloss: 0.218766\tvalid_0's amex: 0.792098\n",
      "[700]\tvalid_0's binary_logloss: 0.218199\tvalid_0's amex: 0.793434\n",
      "[800]\tvalid_0's binary_logloss: 0.217769\tvalid_0's amex: 0.79412\n",
      "[900]\tvalid_0's binary_logloss: 0.21744\tvalid_0's amex: 0.794347\n",
      "[1000]\tvalid_0's binary_logloss: 0.217244\tvalid_0's amex: 0.794655\n",
      "[1100]\tvalid_0's binary_logloss: 0.2172\tvalid_0's amex: 0.794275\n",
      "[1200]\tvalid_0's binary_logloss: 0.217099\tvalid_0's amex: 0.79398\n",
      "\u001b[32m\u001b[1mFold 0 | 04:34 |  1200 trees |                Score = 0.79374\u001b[0m\n",
      "[100]\tvalid_0's binary_logloss: 0.246564\tvalid_0's amex: 0.761035\n",
      "[200]\tvalid_0's binary_logloss: 0.22741\tvalid_0's amex: 0.775924\n",
      "[300]\tvalid_0's binary_logloss: 0.222257\tvalid_0's amex: 0.78392\n",
      "[400]\tvalid_0's binary_logloss: 0.220053\tvalid_0's amex: 0.787432\n",
      "[500]\tvalid_0's binary_logloss: 0.218926\tvalid_0's amex: 0.789149\n",
      "[600]\tvalid_0's binary_logloss: 0.218187\tvalid_0's amex: 0.789814\n",
      "[700]\tvalid_0's binary_logloss: 0.217676\tvalid_0's amex: 0.790421\n",
      "[800]\tvalid_0's binary_logloss: 0.217322\tvalid_0's amex: 0.790888\n",
      "[900]\tvalid_0's binary_logloss: 0.217028\tvalid_0's amex: 0.791545\n",
      "[1000]\tvalid_0's binary_logloss: 0.216819\tvalid_0's amex: 0.791329\n",
      "[1100]\tvalid_0's binary_logloss: 0.21678\tvalid_0's amex: 0.791686\n",
      "[1200]\tvalid_0's binary_logloss: 0.216758\tvalid_0's amex: 0.791762\n",
      "\u001b[32m\u001b[1mFold 1 | 07:42 |  1200 trees |                Score = 0.79152\u001b[0m\n",
      "[100]\tvalid_0's binary_logloss: 0.245522\tvalid_0's amex: 0.76623\n",
      "[200]\tvalid_0's binary_logloss: 0.226089\tvalid_0's amex: 0.780044\n",
      "[300]\tvalid_0's binary_logloss: 0.220957\tvalid_0's amex: 0.786132\n",
      "[400]\tvalid_0's binary_logloss: 0.218778\tvalid_0's amex: 0.788404\n",
      "[500]\tvalid_0's binary_logloss: 0.217557\tvalid_0's amex: 0.789729\n",
      "[600]\tvalid_0's binary_logloss: 0.216922\tvalid_0's amex: 0.790708\n",
      "[700]\tvalid_0's binary_logloss: 0.216471\tvalid_0's amex: 0.791432\n",
      "[800]\tvalid_0's binary_logloss: 0.216211\tvalid_0's amex: 0.792641\n",
      "[900]\tvalid_0's binary_logloss: 0.215906\tvalid_0's amex: 0.792393\n",
      "[1000]\tvalid_0's binary_logloss: 0.215792\tvalid_0's amex: 0.792944\n",
      "[1100]\tvalid_0's binary_logloss: 0.215742\tvalid_0's amex: 0.793767\n",
      "[1200]\tvalid_0's binary_logloss: 0.215648\tvalid_0's amex: 0.793804\n",
      "\u001b[32m\u001b[1mFold 2 | 04:30 |  1200 trees |                Score = 0.79357\u001b[0m\n",
      "[100]\tvalid_0's binary_logloss: 0.244276\tvalid_0's amex: 0.766809\n",
      "[200]\tvalid_0's binary_logloss: 0.224581\tvalid_0's amex: 0.782185\n",
      "[300]\tvalid_0's binary_logloss: 0.219546\tvalid_0's amex: 0.788997\n",
      "[400]\tvalid_0's binary_logloss: 0.217372\tvalid_0's amex: 0.790851\n",
      "[500]\tvalid_0's binary_logloss: 0.216179\tvalid_0's amex: 0.792648\n",
      "[600]\tvalid_0's binary_logloss: 0.215423\tvalid_0's amex: 0.793913\n",
      "[700]\tvalid_0's binary_logloss: 0.214927\tvalid_0's amex: 0.793726\n",
      "[800]\tvalid_0's binary_logloss: 0.214599\tvalid_0's amex: 0.794297\n",
      "[900]\tvalid_0's binary_logloss: 0.214366\tvalid_0's amex: 0.795452\n",
      "[1000]\tvalid_0's binary_logloss: 0.214234\tvalid_0's amex: 0.795099\n",
      "[1100]\tvalid_0's binary_logloss: 0.214089\tvalid_0's amex: 0.795275\n",
      "[1200]\tvalid_0's binary_logloss: 0.214009\tvalid_0's amex: 0.795661\n",
      "\u001b[32m\u001b[1mFold 3 | 04:32 |  1200 trees |                Score = 0.79545\u001b[0m\n",
      "[100]\tvalid_0's binary_logloss: 0.244619\tvalid_0's amex: 0.76757\n",
      "[200]\tvalid_0's binary_logloss: 0.225032\tvalid_0's amex: 0.782201\n",
      "[300]\tvalid_0's binary_logloss: 0.219967\tvalid_0's amex: 0.788431\n",
      "[400]\tvalid_0's binary_logloss: 0.217815\tvalid_0's amex: 0.790519\n",
      "[500]\tvalid_0's binary_logloss: 0.21659\tvalid_0's amex: 0.791895\n",
      "[600]\tvalid_0's binary_logloss: 0.215926\tvalid_0's amex: 0.792294\n",
      "[700]\tvalid_0's binary_logloss: 0.215545\tvalid_0's amex: 0.792425\n",
      "[800]\tvalid_0's binary_logloss: 0.215272\tvalid_0's amex: 0.793529\n",
      "[900]\tvalid_0's binary_logloss: 0.215082\tvalid_0's amex: 0.793891\n",
      "[1000]\tvalid_0's binary_logloss: 0.214915\tvalid_0's amex: 0.793928\n",
      "[1100]\tvalid_0's binary_logloss: 0.214791\tvalid_0's amex: 0.794204\n",
      "[1200]\tvalid_0's binary_logloss: 0.214747\tvalid_0's amex: 0.795088\n",
      "\u001b[32m\u001b[1mFold 4 | 04:35 |  1200 trees |                Score = 0.79488\u001b[0m\n",
      "\u001b[32m\u001b[1mOOF Score:                       0.79383\u001b[0m\n",
      "CPU times: user 1h 59min 44s, sys: 42.6 s, total: 2h 27s\n",
      "Wall time: 32min 23s\n"
     ]
    }
   ],
   "source": [
    "%%time\n",
    "# Cross-validation of the classifier\n",
    "\n",
    "ONLY_FIRST_FOLD = False\n",
    "\n",
    "features = [f for f in train.columns if f != 'customer_ID' and f != 'target']\n",
    "\n",
    "def my_booster(random_state=1, n_estimators=1200):\n",
    "    return LGBMClassifier(n_estimators=n_estimators,\n",
    "                          learning_rate=0.03, reg_lambda=50,\n",
    "                          min_child_samples=2400,\n",
    "                          num_leaves=95,\n",
    "                          colsample_bytree=0.19,\n",
    "                          max_bins=511, random_state=random_state)\n",
    "      \n",
    "print(f\"{len(features)} features\")\n",
    "score_list = []\n",
    "y_pred_list = []\n",
    "kf = StratifiedKFold(n_splits=5)\n",
    "for fold, (idx_tr, idx_va) in enumerate(kf.split(train, target)):\n",
    "    X_tr, X_va, y_tr, y_va, model = None, None, None, None, None\n",
    "    start_time = datetime.datetime.now()\n",
    "    X_tr = train.iloc[idx_tr][features]\n",
    "    X_va = train.iloc[idx_va][features]\n",
    "    y_tr = target[idx_tr]\n",
    "    y_va = target[idx_va]\n",
    "    \n",
    "    model = my_booster()\n",
    "    with warnings.catch_warnings():\n",
    "        warnings.filterwarnings('ignore', category=UserWarning)\n",
    "        model.fit(X_tr, y_tr,\n",
    "                  eval_set = [(X_va, y_va)], \n",
    "                  eval_metric=[lgb_amex_metric],\n",
    "                  callbacks=[log_evaluation(100)])\n",
    "    X_tr, y_tr = None, None\n",
    "    y_va_pred = model.predict_proba(X_va, raw_score=True)\n",
    "    score = amex_metric(y_va, y_va_pred)\n",
    "    n_trees = model.best_iteration_\n",
    "    if n_trees is None: n_trees = model.n_estimators\n",
    "    print(f\"{Fore.GREEN}{Style.BRIGHT}Fold {fold} | {str(datetime.datetime.now() - start_time)[-12:-7]} |\"\n",
    "          f\" {n_trees:5} trees |\"\n",
    "          f\"                Score = {score:.5f}{Style.RESET_ALL}\")\n",
    "    score_list.append(score)\n",
    "    \n",
    "    if INFERENCE:\n",
    "        y_pred_list.append(model.predict_proba(test[features], raw_score=True))\n",
    "        \n",
    "    if ONLY_FIRST_FOLD: break # we only want the first fold\n",
    "    \n",
    "print(f\"{Fore.GREEN}{Style.BRIGHT}OOF Score:                       {np.mean(score_list):.5f}{Style.RESET_ALL}\")"
   ]
  },
  {
   "cell_type": "markdown",
   "id": "ed77002a",
   "metadata": {
    "papermill": {
     "duration": 0.010707,
     "end_time": "2022-06-19T17:59:07.625797",
     "exception": false,
     "start_time": "2022-06-19T17:59:07.615090",
     "status": "completed"
    },
    "tags": []
   },
   "source": [
    "# Prediction histogram"
   ]
  },
  {
   "cell_type": "code",
   "execution_count": 5,
   "id": "02ae2dfa",
   "metadata": {
    "execution": {
     "iopub.execute_input": "2022-06-19T17:59:07.650004Z",
     "iopub.status.busy": "2022-06-19T17:59:07.649487Z",
     "iopub.status.idle": "2022-06-19T17:59:08.503335Z",
     "shell.execute_reply": "2022-06-19T17:59:08.502309Z"
    },
    "papermill": {
     "duration": 0.869326,
     "end_time": "2022-06-19T17:59:08.505696",
     "exception": false,
     "start_time": "2022-06-19T17:59:07.636370",
     "status": "completed"
    },
    "tags": []
   },
   "outputs": [
    {
     "data": {
      "image/png": "[encoded data removed]",
      "text/plain": [
       "<Figure size 720x288 with 1 Axes>"
      ]
     },
     "metadata": {
      "needs_background": "light"
     },
     "output_type": "display_data"
    }
   ],
   "source": [
    "def sigmoid(log_odds):\n",
    "    return 1 / (1 + np.exp(-log_odds))\n",
    "\n",
    "plt.figure(figsize=(10, 4))\n",
    "plt.hist(sigmoid(y_va_pred[y_va == 0]), bins=np.linspace(0, 1, 101),\n",
    "         alpha=0.5, density=True, label='0')\n",
    "plt.hist(sigmoid(y_va_pred[y_va == 1]), bins=np.linspace(0, 1, 101),\n",
    "         alpha=0.5, density=True, label='1')\n",
    "plt.xlabel('y_pred')\n",
    "plt.ylabel('density')\n",
    "plt.title('OOF Prediction histogram', color='k')\n",
    "plt.legend()\n",
    "plt.show()"
   ]
  },
  {
   "cell_type": "markdown",
   "id": "2b683dec",
   "metadata": {
    "papermill": {
     "duration": 0.010327,
     "end_time": "2022-06-19T17:59:08.526950",
     "exception": false,
     "start_time": "2022-06-19T17:59:08.516623",
     "status": "completed"
    },
    "tags": []
   },
   "source": [
    "# Calibration diagram\n",
    "\n",
    "The calibration diagram shows how the model predicts the default probability of customers:"
   ]
  },
  {
   "cell_type": "code",
   "execution_count": 6,
   "id": "20ae75df",
   "metadata": {
    "execution": {
     "iopub.execute_input": "2022-06-19T17:59:08.550268Z",
     "iopub.status.busy": "2022-06-19T17:59:08.549534Z",
     "iopub.status.idle": "2022-06-19T17:59:08.762097Z",
     "shell.execute_reply": "2022-06-19T17:59:08.760940Z"
    },
    "papermill": {
     "duration": 0.226954,
     "end_time": "2022-06-19T17:59:08.764559",
     "exception": false,
     "start_time": "2022-06-19T17:59:08.537605",
     "status": "completed"
    },
    "tags": []
   },
   "outputs": [
    {
     "data": {
      "image/png": "[encoded data removed]",
      "text/plain": [
       "<Figure size 864x288 with 1 Axes>"
      ]
     },
     "metadata": {
      "needs_background": "light"
     },
     "output_type": "display_data"
    }
   ],
   "source": [
    "plt.figure(figsize=(12, 4))\n",
    "CalibrationDisplay.from_predictions(y_va, sigmoid(y_va_pred), n_bins=50,\n",
    "                                    strategy='quantile', ax=plt.gca())\n",
    "plt.title('Probability calibration')\n",
    "plt.show()"
   ]
  },
  {
   "cell_type": "markdown",
   "id": "19e1bc9d",
   "metadata": {
    "papermill": {
     "duration": 0.010863,
     "end_time": "2022-06-19T17:59:08.786989",
     "exception": false,
     "start_time": "2022-06-19T17:59:08.776126",
     "status": "completed"
    },
    "tags": []
   },
   "source": [
    "# Submission\n",
    "\n",
    "We submit the mean of the five predictions. As proposed by @lucasmorin, we [take the mean of the log odds](https://www.kaggle.com/competitions/amex-default-prediction/discussion/329103) rather than of the probabilities."
   ]
  },
  {
   "cell_type": "code",
   "execution_count": 7,
   "id": "685ba75d",
   "metadata": {
    "execution": {
     "iopub.execute_input": "2022-06-19T17:59:08.810895Z",
     "iopub.status.busy": "2022-06-19T17:59:08.810493Z",
     "iopub.status.idle": "2022-06-19T17:59:13.636589Z",
     "shell.execute_reply": "2022-06-19T17:59:13.635415Z"
    },
    "papermill": {
     "duration": 4.84095,
     "end_time": "2022-06-19T17:59:13.638945",
     "exception": false,
     "start_time": "2022-06-19T17:59:08.797995",
     "status": "completed"
    },
    "tags": []
   },
   "outputs": [
    {
     "data": {
      "text/html": [
       "<div>\n",
       "<style scoped>\n",
       "    .dataframe tbody tr th:only-of-type {\n",
       "        vertical-align: middle;\n",
       "    }\n",
       "\n",
       "    .dataframe tbody tr th {\n",
       "        vertical-align: top;\n",
       "    }\n",
       "\n",
       "    .dataframe thead th {\n",
       "        text-align: right;\n",
       "    }\n",
       "</style>\n",
       "<table border=\"1\" class=\"dataframe\">\n",
       "  <thead>\n",
       "    <tr style=\"text-align: right;\">\n",
       "      <th></th>\n",
       "      <th>customer_ID</th>\n",
       "      <th>prediction</th>\n",
       "    </tr>\n",
       "  </thead>\n",
       "  <tbody>\n",
       "    <tr>\n",
       "      <th>0</th>\n",
       "      <td>00000469ba478561f23a92a868bd366de6f6527a684c9a...</td>\n",
       "      <td>-3.752076</td>\n",
       "    </tr>\n",
       "    <tr>\n",
       "      <th>1</th>\n",
       "      <td>00001bf2e77ff879fab36aa4fac689b9ba411dae63ae39...</td>\n",
       "      <td>-7.183596</td>\n",
       "    </tr>\n",
       "    <tr>\n",
       "      <th>2</th>\n",
       "      <td>0000210045da4f81e5f122c6bde5c2a617d03eef67f82c...</td>\n",
       "      <td>-3.217038</td>\n",
       "    </tr>\n",
       "    <tr>\n",
       "      <th>3</th>\n",
       "      <td>00003b41e58ede33b8daf61ab56d9952f17c9ad1c3976c...</td>\n",
       "      <td>-1.296654</td>\n",
       "    </tr>\n",
       "    <tr>\n",
       "      <th>4</th>\n",
       "      <td>00004b22eaeeeb0ec976890c1d9bfc14fd9427e98c4ee9...</td>\n",
       "      <td>1.954858</td>\n",
       "    </tr>\n",
       "    <tr>\n",
       "      <th>...</th>\n",
       "      <td>...</td>\n",
       "      <td>...</td>\n",
       "    </tr>\n",
       "    <tr>\n",
       "      <th>924616</th>\n",
       "      <td>ffff952c631f2c911b8a2a8ca56ea6e656309a83d2f64c...</td>\n",
       "      <td>-4.291187</td>\n",
       "    </tr>\n",
       "    <tr>\n",
       "      <th>924617</th>\n",
       "      <td>ffffcf5df59e5e0bba2a5ac4578a34e2b5aa64a1546cd3...</td>\n",
       "      <td>1.172531</td>\n",
       "    </tr>\n",
       "    <tr>\n",
       "      <th>924618</th>\n",
       "      <td>ffffd61f098cc056dbd7d2a21380c4804bbfe60856f475...</td>\n",
       "      <td>-0.277433</td>\n",
       "    </tr>\n",
       "    <tr>\n",
       "      <th>924619</th>\n",
       "      <td>ffffddef1fc3643ea179c93245b68dca0f36941cd83977...</td>\n",
       "      <td>-0.774193</td>\n",
       "    </tr>\n",
       "    <tr>\n",
       "      <th>924620</th>\n",
       "      <td>fffffa7cf7e453e1acc6a1426475d5cb9400859f82ff61...</td>\n",
       "      <td>-3.209637</td>\n",
       "    </tr>\n",
       "  </tbody>\n",
       "</table>\n",
       "<p>924621 rows × 2 columns</p>\n",
       "</div>"
      ],
      "text/plain": [
       "                                              customer_ID  prediction\n",
       "0       00000469ba478561f23a92a868bd366de6f6527a684c9a...   -3.752076\n",
       "1       00001bf2e77ff879fab36aa4fac689b9ba411dae63ae39...   -7.183596\n",
       "2       0000210045da4f81e5f122c6bde5c2a617d03eef67f82c...   -3.217038\n",
       "3       00003b41e58ede33b8daf61ab56d9952f17c9ad1c3976c...   -1.296654\n",
       "4       00004b22eaeeeb0ec976890c1d9bfc14fd9427e98c4ee9...    1.954858\n",
       "...                                                   ...         ...\n",
       "924616  ffff952c631f2c911b8a2a8ca56ea6e656309a83d2f64c...   -4.291187\n",
       "924617  ffffcf5df59e5e0bba2a5ac4578a34e2b5aa64a1546cd3...    1.172531\n",
       "924618  ffffd61f098cc056dbd7d2a21380c4804bbfe60856f475...   -0.277433\n",
       "924619  ffffddef1fc3643ea179c93245b68dca0f36941cd83977...   -0.774193\n",
       "924620  fffffa7cf7e453e1acc6a1426475d5cb9400859f82ff61...   -3.209637\n",
       "\n",
       "[924621 rows x 2 columns]"
      ]
     },
     "metadata": {},
     "output_type": "display_data"
    }
   ],
   "source": [
    "if INFERENCE:\n",
    "    sub = pd.DataFrame({'customer_ID': test.index,\n",
    "                        'prediction': np.mean(y_pred_list, axis=0)})\n",
    "    sub.to_csv('submission.csv', index=False)\n",
    "    display(sub)"
   ]
  },
  {
   "cell_type": "markdown",
   "id": "9e6fcc97",
   "metadata": {
    "papermill": {
     "duration": 0.011135,
     "end_time": "2022-06-19T17:59:13.661661",
     "exception": false,
     "start_time": "2022-06-19T17:59:13.650526",
     "status": "completed"
    },
    "tags": []
   },
   "source": [
    "As a final check, we verify that the test prediction distribution equals the validation prediction distribution. "
   ]
  },
  {
   "cell_type": "code",
   "execution_count": 8,
   "id": "83095d6c",
   "metadata": {
    "execution": {
     "iopub.execute_input": "2022-06-19T17:59:13.686199Z",
     "iopub.status.busy": "2022-06-19T17:59:13.685806Z",
     "iopub.status.idle": "2022-06-19T17:59:14.383543Z",
     "shell.execute_reply": "2022-06-19T17:59:14.382563Z"
    },
    "papermill": {
     "duration": 0.712991,
     "end_time": "2022-06-19T17:59:14.385977",
     "exception": false,
     "start_time": "2022-06-19T17:59:13.672986",
     "status": "completed"
    },
    "tags": []
   },
   "outputs": [
    {
     "data": {
      "image/png": "[encoded data removed]",
      "text/plain": [
       "<Figure size 864x288 with 1 Axes>"
      ]
     },
     "metadata": {
      "needs_background": "light"
     },
     "output_type": "display_data"
    }
   ],
   "source": [
    "plt.figure(figsize=(12, 4))\n",
    "plt.hist(sigmoid(sub.prediction), bins=np.linspace(0, 1, 101), density=True)\n",
    "plt.hist(sigmoid(y_va_pred), bins=np.linspace(0, 1, 101), rwidth=0.5, color='orange', density=True)\n",
    "plt.show()"
   ]
  },
  {
   "cell_type": "code",
   "execution_count": null,
   "id": "407fbffd",
   "metadata": {
    "papermill": {
     "duration": 0.011192,
     "end_time": "2022-06-19T17:59:14.408908",
     "exception": false,
     "start_time": "2022-06-19T17:59:14.397716",
     "status": "completed"
    },
    "tags": []
   },
   "outputs": [],
   "source": []
  }
 ],
 "metadata": {
  "kernelspec": {
   "display_name": "Python 3",
   "language": "python",
   "name": "python3"
  },
  "language_info": {
   "codemirror_mode": {
    "name": "ipython",
    "version": 3
   },
   "file_extension": ".py",
   "mimetype": "text/x-python",
   "name": "python",
   "nbconvert_exporter": "python",
   "pygments_lexer": "ipython3",
   "version": "3.7.12"
  },
  "papermill": {
   "default_parameters": {},
   "duration": 2475.931638,
   "end_time": "2022-06-19T17:59:15.652098",
   "environment_variables": {},
   "exception": null,
   "input_path": "__notebook__.ipynb",
   "output_path": "__notebook__.ipynb",
   "parameters": {},
   "start_time": "2022-06-19T17:17:59.720460",
   "version": "2.3.4"
  }
 },
 "nbformat": 4,
 "nbformat_minor": 5
}
